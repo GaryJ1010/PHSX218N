{
 "cells": [
  {
   "cell_type": "code",
   "execution_count": 39,
   "metadata": {
    "scrolled": true
   },
   "outputs": [
    {
     "name": "stdout",
     "output_type": "stream",
     "text": [
      "7.849999999999999e-07 wavelegth\n",
      "accepted a value of wavelegth = 6.328e-7\n",
      "1.3017082793177752e-07 δD_average\n"
     ]
    }
   ],
   "source": [
    "import numpy as np\n",
    "from statistics import stdev \n",
    "\n",
    "def Lambda (d,m):\n",
    "    λ = 2*d/m\n",
    "    return λ\n",
    "\n",
    "d = 0.00000785 #meters\n",
    "m = 20\n",
    "\n",
    "L = Lambda(d,m)\n",
    "print (L,\"wavelegth\")\n",
    "print (\"accepted a value of wavelegth = 6.328e-7\")\n",
    "\n",
    "n = 10\n",
    "s = (0.0000075,0.000008,0.000008,0.000007,0.000008,0.0000085,0.000008,0.000008,0.0000075,0.000008)\n",
    "δ = (stdev(s))\n",
    "def D_avg (δ,n):\n",
    "    Dr_average = δ/(n**(1/2))\n",
    "    return Dr_average\n",
    "D = D_avg (δ,n)\n",
    "print (D,\"δD_average\")"
   ]
  },
  {
   "cell_type": "code",
   "execution_count": 42,
   "metadata": {},
   "outputs": [
    {
     "name": "stdout",
     "output_type": "stream",
     "text": [
      "4.135223022334399e-08 δλ\n"
     ]
    }
   ],
   "source": [
    "def Rule_4 (Q,deltaA,A,deltaB,B):\n",
    "    delta4 = Q*((((deltaA/A)**2)+((deltaB/B)**2))**(1/2))\n",
    "    return delta4\n",
    "\n",
    "Q = L\n",
    "deltaA = D\n",
    "A = d\n",
    "deltaB = 1\n",
    "B = 20\n",
    "r4 = Rule_4(Q,deltaA,A,deltaB,B)\n",
    "print (r4,\"δλ\")"
   ]
  },
  {
   "cell_type": "code",
   "execution_count": null,
   "metadata": {},
   "outputs": [],
   "source": []
  }
 ],
 "metadata": {
  "kernelspec": {
   "display_name": "Python 3",
   "language": "python",
   "name": "python3"
  },
  "language_info": {
   "codemirror_mode": {
    "name": "ipython",
    "version": 3
   },
   "file_extension": ".py",
   "mimetype": "text/x-python",
   "name": "python",
   "nbconvert_exporter": "python",
   "pygments_lexer": "ipython3",
   "version": "3.6.5"
  }
 },
 "nbformat": 4,
 "nbformat_minor": 2
}
