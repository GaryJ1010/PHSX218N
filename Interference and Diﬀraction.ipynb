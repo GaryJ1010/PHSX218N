{
 "cells": [
  {
   "cell_type": "code",
   "execution_count": 28,
   "metadata": {
    "scrolled": true
   },
   "outputs": [
    {
     "name": "stdout",
     "output_type": "stream",
     "text": [
      "[1.         0.5        0.33333333 0.25       0.2        0.16666667\n",
      " 0.14285714 0.125      0.11111111 0.1       ] Wavelength single slit\n",
      "[       inf 1.         0.5        0.33333333 0.25       0.2\n",
      " 0.16666667 0.14285714 0.125      0.11111111 0.1       ] Wavelength double slit\n"
     ]
    },
    {
     "name": "stderr",
     "output_type": "stream",
     "text": [
      "D:\\Programming\\lib\\site-packages\\ipykernel_launcher.py:15: RuntimeWarning: divide by zero encountered in true_divide\n",
      "  from ipykernel import kernelapp as app\n"
     ]
    }
   ],
   "source": [
    "import numpy as np\n",
    "def wave_s (p,l,ym1,a):\n",
    "    w = (a*(ym1/l))/p\n",
    "    return w\n",
    "\n",
    "p = np.array ([1,2,3,4,5,6,7,8,9,10])\n",
    "a = 1 #width of slit\n",
    "ym1 = 1\n",
    "l = 1 #length between slit and wall\n",
    "\n",
    "ws = wave_s(p,l,ym1,a)\n",
    "print (ws,\"Wavelength single slit\")\n",
    "\n",
    "def w_d (d,ym2,L,m):\n",
    "    wd = ((ym2/L)*d)/m\n",
    "    return wd\n",
    "d = 1 #distance between slits\n",
    "ym2 = 1\n",
    "L = 1 \n",
    "m = np.array ([0,1,2,3,4,5,6,7,8,9,10])\n",
    "wd = w_d(d,ym2,L,m)\n",
    "print (wd,\"Wavelength double slit\")"
   ]
  },
  {
   "cell_type": "code",
   "execution_count": 16,
   "metadata": {},
   "outputs": [
    {
     "data": {
      "image/png": "[encoded data removed]",
      "text/plain": [
       "<Figure size 432x288 with 1 Axes>"
      ]
     },
     "metadata": {},
     "output_type": "display_data"
    },
    {
     "name": "stdout",
     "output_type": "stream",
     "text": [
      "Slope =  0.004909590591042111   wavelength/d\n",
      "Error in slope =  2.086317103271625e-05   wavelength/d\n",
      "Goodness of fit =  50.05114557727044\n"
     ]
    },
    {
     "data": {
      "image/png": "[encoded data removed]",
      "text/plain": [
       "<Figure size 432x288 with 1 Axes>"
      ]
     },
     "metadata": {},
     "output_type": "display_data"
    },
    {
     "name": "stdout",
     "output_type": "stream",
     "text": [
      "Slope =  0.015548924151128296   wavelength/d\n",
      "Error in slope =  6.959054569176649e-05   wavelength/d\n",
      "Goodness of fit =  53.76569503337509\n",
      " Double Slit Interference Pattern = 6.136988238802639e-07 +/- 8.345268413086501e-10(Wavelength)\n",
      " Double Slit Diﬀraction Pattern = 6.219569660451319e-07 +/- 8.698818211470812e-09(Wavelength)\n"
     ]
    }
   ],
   "source": [
    "import numpy as np\n",
    "import physplot as phys\n",
    "from __future__ import division\n",
    "\n",
    "def rule3(dA,dB,dC=0.0,dD=0.0,dE=0.0,dF=0.0,dG=0.0,dH=0.0,dI=0.0):\n",
    "    return np.sqrt(dA**2+dB**2+dC**2+dD**2+dE**2+dF**2+dG**2+dH**2+dI**2)\n",
    "\n",
    "def rule4(value,A,dA,B,dB,C=1.0,dC=0.0,D=1.0,dD=0.0,E=1.0,dE=0.0,F=1.0,dF=0.0,G=1.0,dG=0.0,H=1.0,dH=0.0,I=1.0,dI=0.0):\n",
    "    return value*np.sqrt((dA/A)**2+(dB/B)**2+(dC/C)**2+(dD/D)**2+(dE/E)**2+(dF/F)**2+(dG/G)**2+(dH/H)**2+(dI/I)**2)\n",
    "\n",
    "def toRadians(angle):\n",
    "    return (np.pi*angle)/180.0\n",
    "\n",
    "adis = 0.00004 #meters\n",
    "ddis = 0.000125\n",
    "\n",
    "#y axis\n",
    "T1=np.array([-0.02392706,-0.01965559,-0.01581065,-0.00982874,-0.00470082,0,0.00470082,0.00940143,0.01410163,0.0200827,0.02478125])\n",
    "T2=np.array([-0.03204031,-0.01495615,0.01410163,0.03118647])\n",
    "\n",
    "#x axis \n",
    "I1=np.array([-5,-4,-3,-2,-1,0,1,2,3,4,5])\n",
    "I2=np.array([-2,-1,1,2])\n",
    "\n",
    "\n",
    "dT1=np.array([0.0002188147838,0.0002188147838,0.0002188147838,0.0002188147838,0.0002188147838,0.0002188147838,0.0002188147838,0.0002188147838,0.0002188147838,0.0002188147838,0.0002188147838])\n",
    "dT2=np.array([0.000220064628,0.000220064628,0.000220064628,0.000220064628])\n",
    "\n",
    "\n",
    "dI1=np.array([0.0001,0.0001,0.0001,0.0001,0.0001,0.0001,0.0001,0.0001,0.0001,0.0001,0.0001])\n",
    "dI2=np.array([0.0001,0.0001,0.0001,0.0001])\n",
    "\n",
    "x1 = I1\n",
    "y1 = np.sin((T1))\n",
    "dy1 = (dT1)\n",
    "\n",
    "x2 = I2\n",
    "y2 = np.sin((T2))\n",
    "dy2 = (dT2)\n",
    "\n",
    "\n",
    "\n",
    "\n",
    "#plotfit takes in parameters in this order\n",
    "#phys.plotfit(x,y,dy,title,'xlabel(units)','ylabel(units)','slope units')  Slope units will not render in LaTeX\n",
    "\n",
    "phys.plotfit(x1,y1,dy1,'Double Slit Interference Pattern','$m$','$sin(theta)$','wavelength/d')\n",
    "dm1 = np.sqrt(1/((sum(1/dy1**2))*(sum(x1**2/dy1**2))-(sum(x1/dy1**2))**2)*sum(1/dy1**2))\n",
    "\n",
    "phys.plotfit(x2,y2,dy2,'Double Slit Diﬀraction Pattern','$p$','$sin(theta)$','wavelength/d')\n",
    "dm2 = np.sqrt(1/((sum(1/dy2**2))*(sum(x2**2/dy2**2))-(sum(x2/dy2**2))**2)*sum(1/dy2**2))\n",
    "\n",
    "\n",
    "m1=np.polynomial.polynomial.polyfit(x1,y1,1,w=dy1)[1]\n",
    "m2=np.polynomial.polynomial.polyfit(x2,y2,1,w=dy2)[1]\n",
    "\n",
    "\n",
    "dB1=rule4((adis*m1),m1,dm1,1,0)\n",
    "dB2=rule4((ddis*m2),m2,dm2,1,0)\n",
    "\n",
    "\n",
    "\n",
    "print(\" Double Slit Interference Pattern = \" +str(((ddis)*m1))+ \" +/- \"+str(dB1) +'(Wavelength)')\n",
    "print(\" Double Slit Diﬀraction Pattern = \" +str(((adis)*m2))+ \" +/- \"+str(dB2) +'(Wavelength)')\n",
    "\n"
   ]
  },
  {
   "cell_type": "code",
   "execution_count": 8,
   "metadata": {},
   "outputs": [
    {
     "name": "stdout",
     "output_type": "stream",
     "text": [
      "[-0.02392706 -0.01965559 -0.01581065 -0.00982874 -0.00470082  0.\n",
      "  0.00470082  0.00940143  0.01410163  0.02008277  0.02478125] in Rads\n",
      "[-0.03204031 -0.01495615  0.01410163  0.03118647] in Rads\n"
     ]
    }
   ],
   "source": [
    "import numpy as np\n",
    "import math\n",
    "def Theta (ym,L):\n",
    "    The = np.arctan(ym/L)\n",
    "    return The\n",
    "ym = np.array ([-0.056,-0.046,-0.037,-0.023,-0.011,0,0.011,0.022,0.033,0.047,0.058])\n",
    "L = np.array ([2.34])\n",
    "T = Theta (ym,L)\n",
    "ym2 = np.array ([-0.075,-0.035,0.033,0.073])\n",
    "L2 = np.array ([2.34])\n",
    "T2 = Theta (ym2,L2)\n",
    "print (T,\"in Rads\")\n",
    "print (T2,\"in Rads\")"
   ]
  },
  {
   "cell_type": "code",
   "execution_count": null,
   "metadata": {},
   "outputs": [],
   "source": []
  }
 ],
 "metadata": {
  "kernelspec": {
   "display_name": "Python 3",
   "language": "python",
   "name": "python3"
  },
  "language_info": {
   "codemirror_mode": {
    "name": "ipython",
    "version": 3
   },
   "file_extension": ".py",
   "mimetype": "text/x-python",
   "name": "python",
   "nbconvert_exporter": "python",
   "pygments_lexer": "ipython3",
   "version": "3.6.5"
  }
 },
 "nbformat": 4,
 "nbformat_minor": 2
}
