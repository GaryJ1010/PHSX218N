{
 "cells": [
  {
   "cell_type": "markdown",
   "metadata": {},
   "source": [
    "Gary Jiang "
   ]
  },
  {
   "cell_type": "code",
   "execution_count": 5,
   "metadata": {},
   "outputs": [],
   "source": [
    "import numpy as np"
   ]
  },
  {
   "cell_type": "code",
   "execution_count": 21,
   "metadata": {},
   "outputs": [],
   "source": [
    "def linear_expantion (deltaL,L,deltaT):\n",
    "    LE = deltaL/L*deltaT\n",
    "    return LE"
   ]
  },
  {
   "cell_type": "code",
   "execution_count": 22,
   "metadata": {},
   "outputs": [],
   "source": [
    "deltaL_array = np.array([0.00125])\n",
    "L_array = np.array([1.05])\n",
    "deltaT_array = np.array([69.1])"
   ]
  },
  {
   "cell_type": "code",
   "execution_count": 23,
   "metadata": {},
   "outputs": [
    {
     "name": "stdout",
     "output_type": "stream",
     "text": [
      "Linear Expantion =  [0.0822619] Coefficient of Linear Expantion\n"
     ]
    }
   ],
   "source": [
    "LE_array = linear_expantion(deltaL_array,L_array,deltaT_array)\n",
    "print(\"Linear Expantion = \", LE_array,\"Coefficient of Linear Expantion\")"
   ]
  },
  {
   "cell_type": "code",
   "execution_count": 24,
   "metadata": {},
   "outputs": [],
   "source": [
    "def Rule_3 (deltaa,deltab):\n",
    "    delta3Q = (((deltaa)**2)+((deltab)**2))**(1/2)\n",
    "    return delta3Q"
   ]
  },
  {
   "cell_type": "code",
   "execution_count": 37,
   "metadata": {},
   "outputs": [
    {
     "name": "stdout",
     "output_type": "stream",
     "text": [
      "Rule 3 =  δ 0.31622776601683794\n"
     ]
    }
   ],
   "source": [
    "deltaa = 0.1\n",
    "deltab = 0.3\n",
    "\n",
    "Rule3 = Rule_3 (deltaa,deltab)\n",
    "print (\"Rule 3 = \",\"δ\", Rule3)"
   ]
  },
  {
   "cell_type": "code",
   "execution_count": 29,
   "metadata": {},
   "outputs": [],
   "source": [
    "def Rule_4 (Q,deltaA,A,deltaB,B,deltaC,C):\n",
    "    delta4Q = Q*(((deltaA/A)**2)+((deltaB/B)**2)+((deltaC/C)**2))**(1/2)\n",
    "    return delta4Q"
   ]
  },
  {
   "cell_type": "code",
   "execution_count": 39,
   "metadata": {},
   "outputs": [
    {
     "name": "stdout",
     "output_type": "stream",
     "text": [
      "Rule 4 =  δ [0.0007622]\n"
     ]
    }
   ],
   "source": [
    "Q = LE_array\n",
    "deltaA = 0.001\n",
    "A = 1.05\n",
    "deltaB = Rule3\n",
    "B = 69.1\n",
    "deltaC = 0.00001\n",
    "C =0.00125\n",
    "\n",
    "Rule4 = Rule_4 (Q,deltaA,A,deltaB,B,deltaC,C)\n",
    "print (\"Rule 4 = \", \"δ\", Rule4)"
   ]
  },
  {
   "cell_type": "code",
   "execution_count": null,
   "metadata": {},
   "outputs": [],
   "source": []
  }
 ],
 "metadata": {
  "kernelspec": {
   "display_name": "Python 3",
   "language": "python",
   "name": "python3"
  },
  "language_info": {
   "codemirror_mode": {
    "name": "ipython",
    "version": 3
   },
   "file_extension": ".py",
   "mimetype": "text/x-python",
   "name": "python",
   "nbconvert_exporter": "python",
   "pygments_lexer": "ipython3",
   "version": "3.6.5"
  }
 },
 "nbformat": 4,
 "nbformat_minor": 2
}
